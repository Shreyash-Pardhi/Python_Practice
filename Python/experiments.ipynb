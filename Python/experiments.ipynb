{
 "cells": [
  {
   "cell_type": "code",
   "execution_count": 3,
   "metadata": {},
   "outputs": [
    {
     "name": "stdout",
     "output_type": "stream",
     "text": [
      "https://res.cloudinary.com/dzr5vt5ut/image/upload/v1718101715/f6n79fx39xol0fwovji5.jpg\n"
     ]
    }
   ],
   "source": [
    "import cloudinary\n",
    "import cloudinary.uploader\n",
    "from cloudinary.utils import cloudinary_url\n",
    "\n",
    "# Configuration       \n",
    "cloudinary.config( \n",
    "    cloud_name = \"dzr5vt5ut\", \n",
    "    api_key = \"829673595861745\", \n",
    "    api_secret = \"9rWMNm7vKvVMBEPzqiD2E8-YALE\", # Click 'View Credentials' below to copy your API secret\n",
    "    secure=True\n",
    ")\n",
    "\n",
    "# Upload an image\n",
    "upload_result = cloudinary.uploader.upload(\"D:\\\\Work and Assignments\\\\Python\\\\Python Projects\\\\Google Vision API\\\\dp.jpg\")\n",
    "print(upload_result[\"secure_url\"])\n"
   ]
  },
  {
   "cell_type": "code",
   "execution_count": 5,
   "metadata": {},
   "outputs": [
    {
     "data": {
      "text/html": [
       "<div>\n",
       "<style scoped>\n",
       "    .dataframe tbody tr th:only-of-type {\n",
       "        vertical-align: middle;\n",
       "    }\n",
       "\n",
       "    .dataframe tbody tr th {\n",
       "        vertical-align: top;\n",
       "    }\n",
       "\n",
       "    .dataframe thead th {\n",
       "        text-align: right;\n",
       "    }\n",
       "</style>\n",
       "<table border=\"1\" class=\"dataframe\">\n",
       "  <thead>\n",
       "    <tr style=\"text-align: right;\">\n",
       "      <th></th>\n",
       "      <th>product_name</th>\n",
       "      <th>product_url</th>\n",
       "    </tr>\n",
       "  </thead>\n",
       "  <tbody>\n",
       "    <tr>\n",
       "      <th>0</th>\n",
       "      <td>Puma Unisex-Adult Smashic Casual Shoe</td>\n",
       "      <td>https://m.media-amazon.com/images/I/51MiYR1te6...</td>\n",
       "    </tr>\n",
       "    <tr>\n",
       "      <th>1</th>\n",
       "      <td>NIKE Womens W Revolution 7 Running Shoe</td>\n",
       "      <td>https://m.media-amazon.com/images/I/71cy1dbMh5...</td>\n",
       "    </tr>\n",
       "    <tr>\n",
       "      <th>2</th>\n",
       "      <td>Sparx Men's Sc0162g Sneakers</td>\n",
       "      <td>https://m.media-amazon.com/images/I/71xWtLhH2G...</td>\n",
       "    </tr>\n",
       "    <tr>\n",
       "      <th>3</th>\n",
       "      <td>Puma Womens Kendall WNS Running Shoe</td>\n",
       "      <td>https://m.media-amazon.com/images/I/61C+Y9zoAQ...</td>\n",
       "    </tr>\n",
       "    <tr>\n",
       "      <th>4</th>\n",
       "      <td>Nivia Men's Combat 2.0 Basketball Shoes</td>\n",
       "      <td>https://m.media-amazon.com/images/I/71YG7EClYf...</td>\n",
       "    </tr>\n",
       "    <tr>\n",
       "      <th>5</th>\n",
       "      <td>adidas Mens Amalgo M Running Shoe</td>\n",
       "      <td>https://m.media-amazon.com/images/I/81ATe15IyH...</td>\n",
       "    </tr>\n",
       "    <tr>\n",
       "      <th>6</th>\n",
       "      <td>Red Tape Casual Sneaker Shoes for Men</td>\n",
       "      <td>https://m.media-amazon.com/images/I/61OBcY37KX...</td>\n",
       "    </tr>\n",
       "    <tr>\n",
       "      <th>7</th>\n",
       "      <td>Bata Mens MaxUniform Dress Shoe</td>\n",
       "      <td>https://m.media-amazon.com/images/I/710+f7XX2F...</td>\n",
       "    </tr>\n",
       "    <tr>\n",
       "      <th>8</th>\n",
       "      <td>SPARX Mens Sx0675g Walking Shoe</td>\n",
       "      <td>https://m.media-amazon.com/images/I/71u2XOFXAI...</td>\n",
       "    </tr>\n",
       "    <tr>\n",
       "      <th>9</th>\n",
       "      <td>Campus Stack Sneakers for Men</td>\n",
       "      <td>https://m.media-amazon.com/images/I/61U0BBQYhr...</td>\n",
       "    </tr>\n",
       "    <tr>\n",
       "      <th>10</th>\n",
       "      <td>ADIDAS Mens Regular Fit M Sereno Bos T2 Jerseys</td>\n",
       "      <td>https://m.media-amazon.com/images/I/71IQc8cAIQ...</td>\n",
       "    </tr>\n",
       "  </tbody>\n",
       "</table>\n",
       "</div>"
      ],
      "text/plain": [
       "                                       product_name  \\\n",
       "0             Puma Unisex-Adult Smashic Casual Shoe   \n",
       "1           NIKE Womens W Revolution 7 Running Shoe   \n",
       "2                      Sparx Men's Sc0162g Sneakers   \n",
       "3              Puma Womens Kendall WNS Running Shoe   \n",
       "4           Nivia Men's Combat 2.0 Basketball Shoes   \n",
       "5                 adidas Mens Amalgo M Running Shoe   \n",
       "6             Red Tape Casual Sneaker Shoes for Men   \n",
       "7                   Bata Mens MaxUniform Dress Shoe   \n",
       "8                   SPARX Mens Sx0675g Walking Shoe   \n",
       "9                     Campus Stack Sneakers for Men   \n",
       "10  ADIDAS Mens Regular Fit M Sereno Bos T2 Jerseys   \n",
       "\n",
       "                                          product_url  \n",
       "0   https://m.media-amazon.com/images/I/51MiYR1te6...  \n",
       "1   https://m.media-amazon.com/images/I/71cy1dbMh5...  \n",
       "2   https://m.media-amazon.com/images/I/71xWtLhH2G...  \n",
       "3   https://m.media-amazon.com/images/I/61C+Y9zoAQ...  \n",
       "4   https://m.media-amazon.com/images/I/71YG7EClYf...  \n",
       "5   https://m.media-amazon.com/images/I/81ATe15IyH...  \n",
       "6   https://m.media-amazon.com/images/I/61OBcY37KX...  \n",
       "7   https://m.media-amazon.com/images/I/710+f7XX2F...  \n",
       "8   https://m.media-amazon.com/images/I/71u2XOFXAI...  \n",
       "9   https://m.media-amazon.com/images/I/61U0BBQYhr...  \n",
       "10  https://m.media-amazon.com/images/I/71IQc8cAIQ...  "
      ]
     },
     "execution_count": 5,
     "metadata": {},
     "output_type": "execute_result"
    }
   ],
   "source": [
    "import pandas as pd\n",
    "c = pd.read_csv(\"D:\\\\Work and Assignments\\\\Python\\\\Product_DB.csv\")\n",
    "c"
   ]
  }
 ],
 "metadata": {
  "kernelspec": {
   "display_name": "Python 3",
   "language": "python",
   "name": "python3"
  },
  "language_info": {
   "codemirror_mode": {
    "name": "ipython",
    "version": 3
   },
   "file_extension": ".py",
   "mimetype": "text/x-python",
   "name": "python",
   "nbconvert_exporter": "python",
   "pygments_lexer": "ipython3",
   "version": "3.12.3"
  }
 },
 "nbformat": 4,
 "nbformat_minor": 2
}
