{
 "cells": [
  {
   "cell_type": "code",
   "execution_count": null,
   "metadata": {},
   "outputs": [],
   "source": [
    "import cloudinary\n",
    "import cloudinary.uploader\n",
    "from cloudinary.utils import cloudinary_url\n",
    "\n",
    "# Configuration       \n",
    "cloudinary.config( \n",
    "    cloud_name = \"dzr5vt5ut\", \n",
    "    api_key = \"829673595861745\", \n",
    "    api_secret = \"9rWMNm7vKvVMBEPzqiD2E8-YALE\", # Click 'View Credentials' below to copy your API secret\n",
    "    secure=True\n",
    ")\n",
    "\n",
    "# Upload an image\n",
    "upload_result = cloudinary.uploader.upload(\"D:\\\\Work and Assignments\\\\Python\\\\Python Projects\\\\Google Vision API\\\\dp.jpg\")\n",
    "print(upload_result[\"secure_url\"])\n"
   ]
  },
  {
   "cell_type": "code",
   "execution_count": null,
   "metadata": {},
   "outputs": [],
   "source": [
    "c"
   ]
  },
  {
   "cell_type": "code",
   "execution_count": null,
   "metadata": {},
   "outputs": [],
   "source": [
    "c.iloc[0]['product_url']"
   ]
  },
  {
   "cell_type": "code",
   "execution_count": null,
   "metadata": {},
   "outputs": [],
   "source": [
    "fea = c['Extracted_Details_from_Image']\n",
    "fea"
   ]
  },
  {
   "cell_type": "code",
   "execution_count": null,
   "metadata": {},
   "outputs": [],
   "source": [
    "from sklearn.metrics.pairwise import cosine_similarity\n",
    "from collections import Counter"
   ]
  },
  {
   "cell_type": "code",
   "execution_count": null,
   "metadata": {},
   "outputs": [],
   "source": [
    "new_df=c\n",
    "new_df.shape"
   ]
  },
  {
   "cell_type": "code",
   "execution_count": null,
   "metadata": {},
   "outputs": [],
   "source": [
    "a=\"Brand: Reebok, Description: ['Polo shirt', 'Arm', 'Shoulder', 'Sports uniform', 'Jersey', 'Azure', 'Sleeve', 'Gesture', 'Sports jersey', 'Collar'], Text: Reebok, Object: ['Person', 'Top', 'Person', 'Top', 'Pants']\"\n",
    "ans=[]\n",
    "for i in range(len(fea)):\n",
    "    b=str(fea[i])\n",
    "\n",
    "    a_vals = Counter(a)\n",
    "    b_vals = Counter(b)\n",
    "\n",
    "    # convert to word-vectors\n",
    "    words  = list(a_vals.keys() | b_vals.keys())\n",
    "    a_vect = [a_vals.get(word, 0) for word in words]       \n",
    "    b_vect = [b_vals.get(word, 0) for word in words]        \n",
    "    sim = cosine_similarity([a_vect], [b_vect])\n",
    "    # print(f\"{i+1}: {cosine_similarity([a_vect], [b_vect])}\")\n",
    "    new_df.loc[i, \"SIM\"] = sim[0][0]\n"
   ]
  },
  {
   "cell_type": "code",
   "execution_count": null,
   "metadata": {},
   "outputs": [
    {
     "ename": "",
     "evalue": "",
     "output_type": "error",
     "traceback": [
      "\u001b[1;31mThe file 'Python\\decorator.py' seems to be overriding built in modules and interfering with the startup of the kernel. Consider renaming the file and starting the kernel again.\n",
      "\u001b[1;31mClick <a href='https://aka.ms/kernelFailuresOverridingBuiltInModules'>here</a> for more info."
     ]
    }
   ],
   "source": [
    "new_df"
   ]
  },
  {
   "cell_type": "code",
   "execution_count": null,
   "metadata": {},
   "outputs": [],
   "source": [
    "sort_df = new_df.sort_values(['SIM'],ascending=False,axis=0)"
   ]
  },
  {
   "cell_type": "code",
   "execution_count": null,
   "metadata": {},
   "outputs": [],
   "source": [
    "sort_df"
   ]
  },
  {
   "cell_type": "code",
   "execution_count": null,
   "metadata": {},
   "outputs": [],
   "source": [
    "import pandas as pd\n",
    "c = pd.read_csv(\"D:\\\\Work and Assignments\\\\Python\\\\Product_DB.csv\")\n",
    "c.shape"
   ]
  },
  {
   "cell_type": "code",
   "execution_count": 1,
   "metadata": {},
   "outputs": [],
   "source": [
    "import pandas as pd\n",
    "from google.cloud import vision, storage\n",
    "import os\n",
    "os.environ[\"GOOGLE_APPLICATION_CREDENTIALS\"] = \"D:\\\\Work and Assignments\\\\Python\\\\Assessment-2 (GOOGLE VISION API)\\\\storage_key.json\""
   ]
  },
  {
   "cell_type": "code",
   "execution_count": 8,
   "metadata": {},
   "outputs": [],
   "source": [
    "data = pd.read_csv(\"D:\\\\Work and Assignments\\\\Python\\\\Assessment-2 (GOOGLE VISION API)\\\\results.csv\")\n",
    "data.to_csv(\"gs://bucket-shreyash/Product_Data/Product_D.csv\",index=False)"
   ]
  },
  {
   "cell_type": "code",
   "execution_count": 6,
   "metadata": {},
   "outputs": [
    {
     "data": {
      "text/html": [
       "<div>\n",
       "<style scoped>\n",
       "    .dataframe tbody tr th:only-of-type {\n",
       "        vertical-align: middle;\n",
       "    }\n",
       "\n",
       "    .dataframe tbody tr th {\n",
       "        vertical-align: top;\n",
       "    }\n",
       "\n",
       "    .dataframe thead th {\n",
       "        text-align: right;\n",
       "    }\n",
       "</style>\n",
       "<table border=\"1\" class=\"dataframe\">\n",
       "  <thead>\n",
       "    <tr style=\"text-align: right;\">\n",
       "      <th></th>\n",
       "      <th>product_name</th>\n",
       "      <th>product_url</th>\n",
       "      <th>objects_extracted</th>\n",
       "    </tr>\n",
       "  </thead>\n",
       "  <tbody>\n",
       "    <tr>\n",
       "      <th>0</th>\n",
       "      <td>Hydro Flask Stainless Steel Wide Mouth Water B...</td>\n",
       "      <td>https://m.media-amazon.com/images/I/6176qXxgtI...</td>\n",
       "      <td>['Vacuum flask','Bottle']</td>\n",
       "    </tr>\n",
       "    <tr>\n",
       "      <th>1</th>\n",
       "      <td>Puma Unisex-Adult Smashic Casual Shoe</td>\n",
       "      <td>https://m.media-amazon.com/images/I/51MiYR1te6...</td>\n",
       "      <td>['Shoe']</td>\n",
       "    </tr>\n",
       "    <tr>\n",
       "      <th>2</th>\n",
       "      <td>NIKE Womens W Revolution 7 Running Shoe</td>\n",
       "      <td>https://m.media-amazon.com/images/I/71cy1dbMh5...</td>\n",
       "      <td>['Shoe']</td>\n",
       "    </tr>\n",
       "    <tr>\n",
       "      <th>3</th>\n",
       "      <td>V-Guard Gatimaan High Speed Table Fan</td>\n",
       "      <td>https://m.media-amazon.com/images/I/71je+Ksd5Z...</td>\n",
       "      <td>['Mechanical fan']</td>\n",
       "    </tr>\n",
       "    <tr>\n",
       "      <th>4</th>\n",
       "      <td>Ant Esports MK1300 Mini Wired</td>\n",
       "      <td>https://m.media-amazon.com/images/I/71OEa5GDg3...</td>\n",
       "      <td>['Rectangle', 'Input device', 'Office equipmen...</td>\n",
       "    </tr>\n",
       "    <tr>\n",
       "      <th>5</th>\n",
       "      <td>Dell MS116 Wired Optical Mouse</td>\n",
       "      <td>https://m.media-amazon.com/images/I/51a1LryFTZ...</td>\n",
       "      <td>['Mouse']</td>\n",
       "    </tr>\n",
       "  </tbody>\n",
       "</table>\n",
       "</div>"
      ],
      "text/plain": [
       "                                        product_name  \\\n",
       "0  Hydro Flask Stainless Steel Wide Mouth Water B...   \n",
       "1              Puma Unisex-Adult Smashic Casual Shoe   \n",
       "2            NIKE Womens W Revolution 7 Running Shoe   \n",
       "3              V-Guard Gatimaan High Speed Table Fan   \n",
       "4                      Ant Esports MK1300 Mini Wired   \n",
       "5                     Dell MS116 Wired Optical Mouse   \n",
       "\n",
       "                                         product_url  \\\n",
       "0  https://m.media-amazon.com/images/I/6176qXxgtI...   \n",
       "1  https://m.media-amazon.com/images/I/51MiYR1te6...   \n",
       "2  https://m.media-amazon.com/images/I/71cy1dbMh5...   \n",
       "3  https://m.media-amazon.com/images/I/71je+Ksd5Z...   \n",
       "4  https://m.media-amazon.com/images/I/71OEa5GDg3...   \n",
       "5  https://m.media-amazon.com/images/I/51a1LryFTZ...   \n",
       "\n",
       "                                   objects_extracted  \n",
       "0                          ['Vacuum flask','Bottle']  \n",
       "1                                           ['Shoe']  \n",
       "2                                           ['Shoe']  \n",
       "3                                 ['Mechanical fan']  \n",
       "4  ['Rectangle', 'Input device', 'Office equipmen...  \n",
       "5                                          ['Mouse']  "
      ]
     },
     "execution_count": 6,
     "metadata": {},
     "output_type": "execute_result"
    }
   ],
   "source": [
    "r = pd.read_csv(\"gs://bucket-shreyash/Product_Data/Product_D.csv\",index_col=False)\n",
    "r"
   ]
  }
 ],
 "metadata": {
  "kernelspec": {
   "display_name": "Python 3",
   "language": "python",
   "name": "python3"
  },
  "language_info": {
   "codemirror_mode": {
    "name": "ipython",
    "version": 3
   },
   "file_extension": ".py",
   "mimetype": "text/x-python",
   "name": "python",
   "nbconvert_exporter": "python",
   "pygments_lexer": "ipython3",
   "version": "3.12.4"
  }
 },
 "nbformat": 4,
 "nbformat_minor": 2
}
