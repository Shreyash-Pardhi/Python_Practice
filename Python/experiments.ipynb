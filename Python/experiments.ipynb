{
 "cells": [
  {
   "cell_type": "markdown",
   "metadata": {},
   "source": [
    "Importing libraries"
   ]
  },
  {
   "cell_type": "code",
   "execution_count": 1,
   "metadata": {},
   "outputs": [],
   "source": [
    "import pandas as pd\n",
    "from google.cloud import vision\n",
    "import os\n",
    "os.environ[\"GOOGLE_APPLICATION_CREDENTIALS\"] = \"D:\\\\Work and Assignments\\\\Python\\\\Assessment-2 (GOOGLE VISION API)\\\\storage_key.json\""
   ]
  },
  {
   "cell_type": "markdown",
   "metadata": {},
   "source": [
    "Reading csv file containing product_name and url"
   ]
  },
  {
   "cell_type": "code",
   "execution_count": 51,
   "metadata": {},
   "outputs": [
    {
     "data": {
      "text/plain": [
       "(0, 2)"
      ]
     },
     "execution_count": 51,
     "metadata": {},
     "output_type": "execute_result"
    }
   ],
   "source": [
    "data = pd.read_csv(\"D:\\\\Work and Assignments\\\\Python\\\\Assessment-2 (GOOGLE VISION API)\\\\data.csv\")\n",
    "data.shape"
   ]
  },
  {
   "cell_type": "markdown",
   "metadata": {},
   "source": [
    "Storing url column in data_url"
   ]
  },
  {
   "cell_type": "code",
   "execution_count": null,
   "metadata": {},
   "outputs": [
    {
     "data": {
      "text/plain": [
       "0     https://m.media-amazon.com/images/I/6176qXxgtI...\n",
       "1     https://m.media-amazon.com/images/I/71XJK6bWJK...\n",
       "2     https://m.media-amazon.com/images/I/81VUG3Eh5Z...\n",
       "3     https://m.media-amazon.com/images/I/615wnuU9Zq...\n",
       "4     https://m.media-amazon.com/images/I/71vE0KfTNQ...\n",
       "                            ...                        \n",
       "95    https://m.media-amazon.com/images/I/71BXLqma3B...\n",
       "96    https://m.media-amazon.com/images/I/41zDXFipUm...\n",
       "97    https://m.media-amazon.com/images/I/71HxhWJlza...\n",
       "98    https://m.media-amazon.com/images/I/71NNd7bV8P...\n",
       "99    https://m.media-amazon.com/images/I/61PIVnN9zT...\n",
       "Name: product_url, Length: 100, dtype: object"
      ]
     },
     "metadata": {},
     "output_type": "display_data"
    }
   ],
   "source": [
    "data_url = data['product_url']\n",
    "data_url"
   ]
  },
  {
   "cell_type": "markdown",
   "metadata": {},
   "source": [
    "Function to check if url contains a image or not"
   ]
  },
  {
   "cell_type": "code",
   "execution_count": 2,
   "metadata": {},
   "outputs": [],
   "source": [
    "import requests\n",
    "def is_url_image(url):\n",
    "   response = requests.head(url)  # Use HEAD request to check headers only\n",
    "   content_type = response.headers.get('Content-Type')\n",
    "   if content_type and 'image' in content_type:\n",
    "      return True\n",
    "   else:\n",
    "      return False"
   ]
  },
  {
   "cell_type": "code",
   "execution_count": null,
   "metadata": {},
   "outputs": [
    {
     "data": {
      "text/html": [
       "<div>\n",
       "<style scoped>\n",
       "    .dataframe tbody tr th:only-of-type {\n",
       "        vertical-align: middle;\n",
       "    }\n",
       "\n",
       "    .dataframe tbody tr th {\n",
       "        vertical-align: top;\n",
       "    }\n",
       "\n",
       "    .dataframe thead th {\n",
       "        text-align: right;\n",
       "    }\n",
       "</style>\n",
       "<table border=\"1\" class=\"dataframe\">\n",
       "  <thead>\n",
       "    <tr style=\"text-align: right;\">\n",
       "      <th></th>\n",
       "      <th>URL</th>\n",
       "      <th>IsImage</th>\n",
       "    </tr>\n",
       "  </thead>\n",
       "  <tbody>\n",
       "    <tr>\n",
       "      <th>0</th>\n",
       "      <td>https://m.media-amazon.com/images/I/71XJK6bWJK...</td>\n",
       "      <td>True</td>\n",
       "    </tr>\n",
       "  </tbody>\n",
       "</table>\n",
       "</div>"
      ],
      "text/plain": [
       "                                                 URL  IsImage\n",
       "0  https://m.media-amazon.com/images/I/71XJK6bWJK...     True"
      ]
     },
     "metadata": {},
     "output_type": "display_data"
    }
   ],
   "source": [
    "is_url_image('https://m.media-amazon.com/images/I/71XJK6bWJKL._AC_UL480_FMwebp_QL65_.jpg')"
   ]
  },
  {
   "cell_type": "code",
   "execution_count": null,
   "metadata": {},
   "outputs": [],
   "source": [
    "import webcolors\n",
    "def closest_colour(requested_colour):\n",
    "    min_colours = {}\n",
    "    for key, name in webcolors.CSS3_HEX_TO_NAMES.items():\n",
    "        r_c, g_c, b_c = webcolors.hex_to_rgb(key)\n",
    "        rd = (r_c - requested_colour[0]) ** 2\n",
    "        gd = (g_c - requested_colour[1]) ** 2\n",
    "        bd = (b_c - requested_colour[2]) ** 2\n",
    "        min_colours[(rd + gd + bd)] = name\n",
    "    return min_colours[min(min_colours.keys())]\n",
    "\n",
    "def get_colour_name(requested_colour):\n",
    "    try:\n",
    "        closest_name = actual_name = webcolors.rgb_to_name(requested_colour)\n",
    "    except ValueError:\n",
    "        closest_name = closest_colour(requested_colour)\n",
    "        actual_name = None\n",
    "    return actual_name, closest_name\n",
    "\n",
    "requested_colour = (119, 172, 152)\n",
    "actual_name, closest_name = get_colour_name(requested_colour)"
   ]
  },
  {
   "cell_type": "code",
   "execution_count": null,
   "metadata": {},
   "outputs": [
    {
     "name": "stdout",
     "output_type": "stream",
     "text": [
      "color: (None, 'black')\n",
      "color: (None, 'darkslategray')\n",
      "color: (None, 'rosybrown')\n",
      "color: (None, 'whitesmoke')\n",
      "color: (None, 'darkslategray')\n",
      "color: (None, 'black')\n",
      "color: (None, 'darkslategray')\n",
      "color: (None, 'gray')\n",
      "color: (None, 'black')\n",
      "color: (None, 'darkslategray')\n"
     ]
    }
   ],
   "source": [
    "\n",
    "def detect_properties_uri(uri):\n",
    "    client = vision.ImageAnnotatorClient()\n",
    "    image = vision.Image()\n",
    "    image.source.image_uri = uri\n",
    "\n",
    "    response = client.image_properties(image=image)\n",
    "    props = response.image_properties_annotation\n",
    "    # print(\"Properties:\",props.dominant_colors.colors)\n",
    "    # scr = [col for col in props.dominant_colors.colors]\n",
    "    # print(scr)\n",
    "    for color in props.dominant_colors.colors:\n",
    "        try:\n",
    "            r = int(color.color.red)\n",
    "            g = int(color.color.green)\n",
    "            b = int(color.color.blue)\n",
    "            print(f\"color: {get_colour_name((r,g,b))}\")\n",
    "        except Exception as e:\n",
    "            print(\"gone from here\",e)\n",
    "            continue\n",
    "        \n",
    "detect_properties_uri(data_url[1])"
   ]
  },
  {
   "cell_type": "markdown",
   "metadata": {},
   "source": [
    "Empty String variable to store results"
   ]
  },
  {
   "cell_type": "code",
   "execution_count": 3,
   "metadata": {},
   "outputs": [],
   "source": [
    "txt = \"\""
   ]
  },
  {
   "cell_type": "code",
   "execution_count": 3,
   "metadata": {},
   "outputs": [
    {
     "data": {
      "text/plain": [
       "['https://m.media-amazon.com/images/I/71xWtLhH2GL._SX695_.jpg',\n",
       " 'https://m.media-amazon.com/images/I/61C+Y9zoAQL._SY695_.jpg',\n",
       " 'https://m.media-amazon.com/images/I/71YG7EClYfL._SX679_.jpg',\n",
       " 'https://m.media-amazon.com/images/I/81ATe15IyHL._SX695_.jpg',\n",
       " 'https://m.media-amazon.com/images/I/61OBcY37KXL._SY695_.jpg',\n",
       " 'https://m.media-amazon.com/images/I/710+f7XX2FL._SY695_.jpg',\n",
       " 'https://m.media-amazon.com/images/I/71u2XOFXAIL._SX695_.jpg',\n",
       " 'https://m.media-amazon.com/images/I/61U0BBQYhrL._SY695_.jpg',\n",
       " 'https://m.media-amazon.com/images/I/71IQc8cAIQL._SX569_.jpg',\n",
       " 'https://m.media-amazon.com/images/I/71fKZrHSO9L._SX569_.jpg',\n",
       " 'https://m.media-amazon.com/images/I/71FAiQfnqSL._SX569_.jpg',\n",
       " 'https://m.media-amazon.com/images/I/61z4pzDQROL._SX569_.jpg',\n",
       " 'https://m.media-amazon.com/images/I/71N-eWQzzjL._SX569_.jpg',\n",
       " 'https://m.media-amazon.com/images/I/51-FneXbwrL._SY741_.jpg',\n",
       " 'https://m.media-amazon.com/images/I/51oqHcH9mcL._SY741_.jpg',\n",
       " 'https://m.media-amazon.com/images/I/61a9DdTG-sL._SY741_.jpg',\n",
       " 'https://m.media-amazon.com/images/I/71x4rLhMkML._SY741_.jpg',\n",
       " 'https://m.media-amazon.com/images/I/51rgGjt-lnL._SY741_.jpg',\n",
       " 'https://m.media-amazon.com/images/I/61fRzTKtwAL._SX569_.jpg',\n",
       " 'https://m.media-amazon.com/images/I/71aNV7oOkmL._SX679_.jpg',\n",
       " 'https://m.media-amazon.com/images/I/51Z3J7uzNfL._SX679_.jpg',\n",
       " 'https://m.media-amazon.com/images/I/71QvcBxXXxL._SY741_.jpg',\n",
       " 'https://m.media-amazon.com/images/I/61hpIjX15vL._SX679_.jpg',\n",
       " 'https://m.media-amazon.com/images/I/81lfqanrciL._SY741_.jpg',\n",
       " 'https://m.media-amazon.com/images/I/61AHiYyu3ZL._SX679_.jpg',\n",
       " 'https://m.media-amazon.com/images/I/71TLCsrjEnL._SX679_.jpg',\n",
       " 'https://m.media-amazon.com/images/I/51AOvn+e1QL._SX679_.jpg',\n",
       " 'https://m.media-amazon.com/images/I/71ij5dqxbeL._SX679_.jpg',\n",
       " 'https://m.media-amazon.com/images/I/71dJSabHYiL._SX679_.jpg',\n",
       " 'https://m.media-amazon.com/images/I/51Sn5X2gfaL._SX679_.jpg',\n",
       " 'https://m.media-amazon.com/images/I/61Jrsu9d3-L._SX679_.jpg',\n",
       " 'https://m.media-amazon.com/images/I/51pPPth9kyL._SX679_.jpg',\n",
       " 'https://m.media-amazon.com/images/I/51opW+tODpL._SY741_.jpg',\n",
       " 'https://m.media-amazon.com/images/I/51jCor3c-EL._SX679_.jpg',\n",
       " 'https://m.media-amazon.com/images/I/510YZx4v3wL._SX679_.jpg',\n",
       " 'https://m.media-amazon.com/images/I/71td5npKu6L._SY741_.jpg',\n",
       " 'https://m.media-amazon.com/images/I/81vxWpPpgNL._SX679_.jpg',\n",
       " 'https://m.media-amazon.com/images/I/71oQh8WFlyL._SX679_.jpg',\n",
       " 'https://m.media-amazon.com/images/I/61Cs3B5GHhL._SX679_.jpg',\n",
       " 'https://m.media-amazon.com/images/I/61P2ia5kurL._SX679_.jpg',\n",
       " 'https://m.media-amazon.com/images/I/418cc1MvF1L._SX679_.jpg',\n",
       " 'https://m.media-amazon.com/images/I/71Eu1-dfTmL._SX679_.jpg',\n",
       " 'https://m.media-amazon.com/images/I/71lYhcc++AL._SX679_.jpg',\n",
       " 'https://m.media-amazon.com/images/I/617Af4lsBNL._SX679_.jpg',\n",
       " 'https://m.media-amazon.com/images/I/518BYF8LHRL._SY450_.jpg',\n",
       " 'https://m.media-amazon.com/images/I/61eTPcEsC+L._SX679_.jpg',\n",
       " 'https://m.media-amazon.com/images/I/51qPrXE56-L._SX679_.jpg',\n",
       " 'https://m.media-amazon.com/images/I/8195aYGDl9L._SX450_.jpg',\n",
       " 'https://m.media-amazon.com/images/I/81aKi8uAUsL._SX450_.jpg',\n",
       " 'https://m.media-amazon.com/images/I/71S8iUPW9bL._SX450_.jpg',\n",
       " 'https://m.media-amazon.com/images/I/71UXTb93oZL._SX450_.jpg',\n",
       " 'https://m.media-amazon.com/images/I/91mRUNnqqnL._SX569_.jpg',\n",
       " 'https://m.media-amazon.com/images/I/5126gXnEjFL._SX450_.jpg',\n",
       " 'https://m.media-amazon.com/images/I/715-IBd7vlL._SX450_.jpg',\n",
       " 'https://m.media-amazon.com/images/I/81MRU+3RJLL._SX450_.jpg',\n",
       " 'https://m.media-amazon.com/images/I/819lC-tC8iL._SX450_.jpg',\n",
       " 'https://m.media-amazon.com/images/I/71EcYIKenVL._SX450_.jpg',\n",
       " 'https://m.media-amazon.com/images/I/71XJK6bWJKL._AC_UL480_FMwebp_QL65_.jpg',\n",
       " 'https://m.media-amazon.com/images/I/81VUG3Eh5ZL._AC_UL480_FMwebp_QL65_.jpg',\n",
       " 'https://m.media-amazon.com/images/I/615wnuU9ZqL._AC_UL480_FMwebp_QL65_.jpg',\n",
       " 'https://m.media-amazon.com/images/I/71vE0KfTNQL._AC_UL480_FMwebp_QL65_.jpg',\n",
       " 'https://m.media-amazon.com/images/I/71ua0aLCE2L._AC_UL480_FMwebp_QL65_.jpg',\n",
       " 'https://m.media-amazon.com/images/I/71VMAGCc7OL._AC_UL960_FMwebp_QL65_.jpg',\n",
       " 'https://m.media-amazon.com/images/I/81mLuArYaqL._AC_UL480_FMwebp_QL65_.jpg',\n",
       " 'https://m.media-amazon.com/images/I/61PQRMZMhWL._AC_UL480_FMwebp_QL65_.jpg',\n",
       " 'https://m.media-amazon.com/images/I/719G6MA0A8L._AC_UL480_FMwebp_QL65_.jpg',\n",
       " 'https://m.media-amazon.com/images/I/61OvsRHucQL._AC_UL480_FMwebp_QL65_.jpg',\n",
       " 'https://m.media-amazon.com/images/I/71U8Ot3tx+L._AC_UL480_FMwebp_QL65_.jpg',\n",
       " 'https://m.media-amazon.com/images/I/51X-dwiFqAL._AC_UL480_FMwebp_QL65_.jpg',\n",
       " 'https://m.media-amazon.com/images/I/519NQwNO96L._AC_UL480_FMwebp_QL65_.jpg',\n",
       " 'https://m.media-amazon.com/images/I/71WcWVcKmnL._AC_UL480_FMwebp_QL65_.jpg',\n",
       " 'https://m.media-amazon.com/images/I/51JKURQSTEL._AC_UL480_FMwebp_QL65_.jpg',\n",
       " 'https://m.media-amazon.com/images/I/61KQXq71FJL._AC_UL480_FMwebp_QL65_.jpg',\n",
       " 'https://m.media-amazon.com/images/I/61r36QSm+iL._AC_UL480_FMwebp_QL65_.jpg',\n",
       " 'https://m.media-amazon.com/images/I/61wzlDnzmFL._AC_UL480_FMwebp_QL65_.jpg',\n",
       " 'https://m.media-amazon.com/images/I/41CWXgRuGCL._AC_UL480_FMwebp_QL65_.jpg',\n",
       " 'https://m.media-amazon.com/images/I/51vYlQYxXxL._AC_UL480_FMwebp_QL65_.jpg',\n",
       " 'https://m.media-amazon.com/images/I/71iMhXX9Q9L._AC_UL480_FMwebp_QL65_.jpg',\n",
       " 'https://m.media-amazon.com/images/I/61o-HmSlBLL._AC_UL480_FMwebp_QL65_.jpg',\n",
       " 'https://m.media-amazon.com/images/I/71Rx0-s00nL._AC_UL480_FMwebp_QL65_.jpg',\n",
       " 'https://m.media-amazon.com/images/I/51Uq2V-Dw0L._AC_UL480_FMwebp_QL65_.jpg',\n",
       " 'https://m.media-amazon.com/images/I/71etoV72iAL._AC_UL480_FMwebp_QL65_.jpg',\n",
       " 'https://m.media-amazon.com/images/I/615t60-qErL._AC_UL480_FMwebp_QL65_.jpg',\n",
       " 'https://m.media-amazon.com/images/I/41wT18b9nJL._AC_UL480_FMwebp_QL65_.jpg',\n",
       " 'https://m.media-amazon.com/images/I/71dLfRcfU5L._AC_UL480_FMwebp_QL65_.jpg',\n",
       " 'https://m.media-amazon.com/images/I/71nh1VxLzuL._AC_UY327_FMwebp_QL65_.jpg',\n",
       " 'https://m.media-amazon.com/images/I/71N6Oge0ntL._AC_UY327_FMwebp_QL65_.jpg',\n",
       " 'https://m.media-amazon.com/images/I/61apHvYK6GL._AC_UY327_FMwebp_QL65_.jpg',\n",
       " 'https://m.media-amazon.com/images/I/61jBnY6paeL._AC_UY327_FMwebp_QL65_.jpg',\n",
       " 'https://m.media-amazon.com/images/I/61CGHv6kmWL._AC_UY327_FMwebp_QL65_.jpg',\n",
       " 'https://m.media-amazon.com/images/I/712OyBPPL0L._AC_UY327_FMwebp_QL65_.jpg',\n",
       " 'https://m.media-amazon.com/images/I/719zL67IK7L._AC_UY327_FMwebp_QL65_.jpg',\n",
       " 'https://m.media-amazon.com/images/I/61AZ9rCOSZL._AC_UY327_FMwebp_QL65_.jpg',\n",
       " 'https://m.media-amazon.com/images/I/51HfzWPM6eL._AC_UY327_FMwebp_QL65_.jpg',\n",
       " 'https://m.media-amazon.com/images/I/51Le9g6qjRL._AC_UY327_FMwebp_QL65_.jpg',\n",
       " 'https://m.media-amazon.com/images/I/51RiCPSTwsL._AC_UY327_FMwebp_QL65_.jpg',\n",
       " 'https://m.media-amazon.com/images/I/51WaY1BLs8L._AC_UY327_FMwebp_QL65_.jpg',\n",
       " 'https://m.media-amazon.com/images/I/61vF4LdktpL._AC_UY327_FMwebp_QL65_.jpg',\n",
       " 'https://m.media-amazon.com/images/I/71QbOWMcP9L._AC_UY327_FMwebp_QL65_.jpg',\n",
       " 'https://m.media-amazon.com/images/I/61QY3V6A-NL._AC_UY327_FMwebp_QL65_.jpg',\n",
       " 'https://m.media-amazon.com/images/I/61lCLrCtuhL._AC_UY327_FMwebp_QL65_.jpg',\n",
       " 'https://m.media-amazon.com/images/I/61kutmcYxSL._AC_UY327_FMwebp_QL65_.jpg',\n",
       " 'https://m.media-amazon.com/images/I/61PZvXc7UFL._AC_UY327_FMwebp_QL65_.jpg',\n",
       " 'https://m.media-amazon.com/images/I/61lZalbTWAL._AC_UY327_FMwebp_QL65_.jpg',\n",
       " 'https://m.media-amazon.com/images/I/8167lxUe8SL._AC_UY327_FMwebp_QL65_.jpg',\n",
       " 'https://m.media-amazon.com/images/I/61Yupm5970L._AC_UY327_FMwebp_QL65_.jpg',\n",
       " 'https://m.media-amazon.com/images/I/618zZ7u3sUL.__AC_SX300_SY300_QL70_FMwebp_.jpg',\n",
       " 'https://m.media-amazon.com/images/I/71WBwf2mkXL._AC_UY327_FMwebp_QL65_.jpg',\n",
       " 'https://m.media-amazon.com/images/I/71QDJHG1PqL._AC_UY327_FMwebp_QL65_.jpg',\n",
       " 'https://m.media-amazon.com/images/I/71pqfvJKW5L._AC_UY327_FMwebp_QL65_.jpg',\n",
       " 'https://m.media-amazon.com/images/I/71rcQyKSOcL._AC_UY327_FMwebp_QL65_.jpg',\n",
       " 'https://m.media-amazon.com/images/I/71cd3Qs3fEL._AC_UY327_FMwebp_QL65_.jpg',\n",
       " 'https://m.media-amazon.com/images/I/61eavECexVL._AC_UY327_FMwebp_QL65_.jpg',\n",
       " 'https://m.media-amazon.com/images/I/61UGJ7z-sUL._AC_UY327_FMwebp_QL65_.jpg',\n",
       " 'https://m.media-amazon.com/images/I/71zS0BekOfL._AC_UY327_FMwebp_QL65_.jpg',\n",
       " 'https://m.media-amazon.com/images/I/513SGvOptJL._AC_UL480_FMwebp_QL65_.jpg',\n",
       " 'https://m.media-amazon.com/images/I/41nswQESVVL._AC_UL480_FMwebp_QL65_.jpg',\n",
       " 'https://m.media-amazon.com/images/I/51FLUURf1kL._AC_UL480_FMwebp_QL65_.jpg',\n",
       " 'https://m.media-amazon.com/images/I/414LGHqG4vL._AC_UL480_FMwebp_QL65_.jpg',\n",
       " 'https://m.media-amazon.com/images/I/41HC1r-JCqL._AC_UL480_FMwebp_QL65_.jpg',\n",
       " 'https://m.media-amazon.com/images/I/710D-t-2LrL._AC_UL480_FMwebp_QL65_.jpg',\n",
       " 'https://m.media-amazon.com/images/I/51RCyVOxVIL._AC_UL480_FMwebp_QL65_.jpg',\n",
       " 'https://m.media-amazon.com/images/I/61vfipvWkLL._AC_UL480_FMwebp_QL65_.jpg',\n",
       " 'https://m.media-amazon.com/images/I/71d2fcBxEjL._AC_UL480_FMwebp_QL65_.jpg',\n",
       " 'https://m.media-amazon.com/images/I/51c1rR4CbOL._AC_UL480_FMwebp_QL65_.jpg',\n",
       " 'https://m.media-amazon.com/images/I/61GHkfAZMRL._AC_UL480_FMwebp_QL65_.jpg',\n",
       " 'https://m.media-amazon.com/images/I/612xOm1X6LL._AC_UL480_FMwebp_QL65_.jpg',\n",
       " 'https://m.media-amazon.com/images/I/51QCXW-lhxL._AC_UL480_FMwebp_QL65_.jpg',\n",
       " 'https://m.media-amazon.com/images/I/616TArDJB7L._AC_UL480_FMwebp_QL65_.jpg',\n",
       " 'https://m.media-amazon.com/images/I/71t26JUbTXL._AC_UL480_FMwebp_QL65_.jpg',\n",
       " 'https://m.media-amazon.com/images/I/81pdj8cq70L._SX679_.jpg',\n",
       " 'https://m.media-amazon.com/images/I/81kYos-YtGL._SX679_.jpg',\n",
       " 'https://m.media-amazon.com/images/I/81FTipXrZIL._SX679_.jpg',\n",
       " 'https://m.media-amazon.com/images/I/91imPb7haXL._SX679_.jpg',\n",
       " 'https://m.media-amazon.com/images/I/81TRdxk1wnL._SY741_.jpg',\n",
       " 'https://m.media-amazon.com/images/I/A10JGz2JOZL._AC_UL480_FMwebp_QL65_.jpg',\n",
       " 'https://m.media-amazon.com/images/I/51P0U7RknsL._AC_UL480_FMwebp_QL65_.jpg',\n",
       " 'https://m.media-amazon.com/images/I/81SEVBzTWhL._AC_UL480_FMwebp_QL65_.jpg',\n",
       " 'https://m.media-amazon.com/images/I/81CdTxYMb5L._AC_UL480_FMwebp_QL65_.jpg',\n",
       " 'https://m.media-amazon.com/images/I/61Ikv+ZkHnL._AC_UL480_FMwebp_QL65_.jpg',\n",
       " 'https://m.media-amazon.com/images/I/61FBnxZnSKL._AC_UL480_FMwebp_QL65_.jpg',\n",
       " 'https://m.media-amazon.com/images/I/61gAw323f6L._AC_UL480_FMwebp_QL65_.jpg',\n",
       " 'https://m.media-amazon.com/images/I/61JqlaY97SL._AC_UL480_FMwebp_QL65_.jpg',\n",
       " 'https://m.media-amazon.com/images/I/81svTVP8BQL._AC_UL480_FMwebp_QL65_.jpg',\n",
       " 'https://m.media-amazon.com/images/I/715ZdQrugkL._AC_UL480_FMwebp_QL65_.jpg',\n",
       " 'https://m.media-amazon.com/images/I/81y9uUq1lnL._AC_UY327_FMwebp_QL65_.jpg',\n",
       " 'https://m.media-amazon.com/images/I/81wGn2TQJeL._AC_UY327_FMwebp_QL65_.jpg',\n",
       " 'https://m.media-amazon.com/images/I/61Z2ibSEOxL._AC_UY327_FMwebp_QL65_.jpg',\n",
       " 'https://m.media-amazon.com/images/I/61QWH8VYIuL._AC_UY327_FMwebp_QL65_.jpg',\n",
       " 'https://m.media-amazon.com/images/I/61arPQZLNML._AC_UY327_FMwebp_QL65_.jpg',\n",
       " 'https://m.media-amazon.com/images/I/41FpPQlmcfL._AC_UL480_FMwebp_QL65_.jpg',\n",
       " 'https://m.media-amazon.com/images/I/71BXLqma3BL._AC_UL480_FMwebp_QL65_.jpg',\n",
       " 'https://m.media-amazon.com/images/I/41zDXFipUmL.jpg',\n",
       " 'https://m.media-amazon.com/images/I/71HxhWJlzaL._AC_UL480_FMwebp_QL65_.jpg',\n",
       " 'https://m.media-amazon.com/images/I/71NNd7bV8PL._AC_UL480_FMwebp_QL65_.jpg']"
      ]
     },
     "execution_count": 3,
     "metadata": {},
     "output_type": "execute_result"
    }
   ],
   "source": [
    "sam = pd.read_csv('D:\\\\Work and Assignments\\\\Python\\\\sampleCSV.csv')\n",
    "s_uri = sam['product_url'].tolist()\n",
    "s_uri"
   ]
  },
  {
   "cell_type": "code",
   "execution_count": null,
   "metadata": {},
   "outputs": [],
   "source": []
  },
  {
   "cell_type": "markdown",
   "metadata": {},
   "source": [
    "Function to extract information from image"
   ]
  },
  {
   "cell_type": "code",
   "execution_count": 18,
   "metadata": {},
   "outputs": [],
   "source": [
    "def extract_info(uri):\n",
    "        txt = ''\n",
    "        if(is_url_image(uri)==True):\n",
    "            client = vision.ImageAnnotatorClient()\n",
    "            img = vision.Image()\n",
    "            img.source.image_uri = uri\n",
    "            \n",
    "            res_label = client.label_detection(img)\n",
    "            labels = res_label.label_annotations\n",
    "            label = [lab.description for lab in labels]\n",
    "            \n",
    "            objects = client.object_localization(image=img).localized_object_annotations\n",
    "            obj = [ob.name for ob in objects]\n",
    "            txt = txt + f\"{label}\" if len(obj)==0 else txt + f\"{obj}\"\n",
    "        \n",
    "        else:\n",
    "           txt = \"Invalid\"\n",
    "        return txt"
   ]
  },
  {
   "cell_type": "code",
   "execution_count": 37,
   "metadata": {},
   "outputs": [],
   "source": [
    "ur = [1,2,3]"
   ]
  },
  {
   "cell_type": "code",
   "execution_count": 44,
   "metadata": {},
   "outputs": [],
   "source": [
    "def pr(u):\n",
    "    print(u)\n",
    "    return u"
   ]
  },
  {
   "cell_type": "code",
   "execution_count": 50,
   "metadata": {},
   "outputs": [
    {
     "ename": "BrokenProcessPool",
     "evalue": "A process in the process pool was terminated abruptly while the future was running or pending.",
     "output_type": "error",
     "traceback": [
      "\u001b[1;31m---------------------------------------------------------------------------\u001b[0m",
      "\u001b[1;31mBrokenProcessPool\u001b[0m                         Traceback (most recent call last)",
      "Cell \u001b[1;32mIn[50], line 4\u001b[0m\n\u001b[0;32m      2\u001b[0m \u001b[38;5;28;01mwith\u001b[39;00m concurrent\u001b[38;5;241m.\u001b[39mfutures\u001b[38;5;241m.\u001b[39mProcessPoolExecutor() \u001b[38;5;28;01mas\u001b[39;00m executor:\n\u001b[0;32m      3\u001b[0m     results \u001b[38;5;241m=\u001b[39m executor\u001b[38;5;241m.\u001b[39mmap(pr, ur)\n\u001b[1;32m----> 4\u001b[0m \u001b[43m    \u001b[49m\u001b[38;5;28;43;01mfor\u001b[39;49;00m\u001b[43m \u001b[49m\u001b[43mr\u001b[49m\u001b[43m \u001b[49m\u001b[38;5;129;43;01min\u001b[39;49;00m\u001b[43m \u001b[49m\u001b[43mresults\u001b[49m\u001b[43m:\u001b[49m\n\u001b[0;32m      5\u001b[0m \u001b[43m        \u001b[49m\u001b[38;5;28;43mprint\u001b[39;49m\u001b[43m(\u001b[49m\u001b[43mr\u001b[49m\u001b[43m)\u001b[49m\n",
      "File \u001b[1;32mc:\\Users\\Microsoft\\AppData\\Local\\Programs\\Python\\Python312\\Lib\\concurrent\\futures\\process.py:642\u001b[0m, in \u001b[0;36m_chain_from_iterable_of_lists\u001b[1;34m(iterable)\u001b[0m\n\u001b[0;32m    636\u001b[0m \u001b[38;5;28;01mdef\u001b[39;00m \u001b[38;5;21m_chain_from_iterable_of_lists\u001b[39m(iterable):\n\u001b[0;32m    637\u001b[0m \u001b[38;5;250m    \u001b[39m\u001b[38;5;124;03m\"\"\"\u001b[39;00m\n\u001b[0;32m    638\u001b[0m \u001b[38;5;124;03m    Specialized implementation of itertools.chain.from_iterable.\u001b[39;00m\n\u001b[0;32m    639\u001b[0m \u001b[38;5;124;03m    Each item in *iterable* should be a list.  This function is\u001b[39;00m\n\u001b[0;32m    640\u001b[0m \u001b[38;5;124;03m    careful not to keep references to yielded objects.\u001b[39;00m\n\u001b[0;32m    641\u001b[0m \u001b[38;5;124;03m    \"\"\"\u001b[39;00m\n\u001b[1;32m--> 642\u001b[0m \u001b[43m    \u001b[49m\u001b[38;5;28;43;01mfor\u001b[39;49;00m\u001b[43m \u001b[49m\u001b[43melement\u001b[49m\u001b[43m \u001b[49m\u001b[38;5;129;43;01min\u001b[39;49;00m\u001b[43m \u001b[49m\u001b[43miterable\u001b[49m\u001b[43m:\u001b[49m\n\u001b[0;32m    643\u001b[0m \u001b[43m        \u001b[49m\u001b[43melement\u001b[49m\u001b[38;5;241;43m.\u001b[39;49m\u001b[43mreverse\u001b[49m\u001b[43m(\u001b[49m\u001b[43m)\u001b[49m\n\u001b[0;32m    644\u001b[0m \u001b[43m        \u001b[49m\u001b[38;5;28;43;01mwhile\u001b[39;49;00m\u001b[43m \u001b[49m\u001b[43melement\u001b[49m\u001b[43m:\u001b[49m\n",
      "File \u001b[1;32mc:\\Users\\Microsoft\\AppData\\Local\\Programs\\Python\\Python312\\Lib\\concurrent\\futures\\_base.py:619\u001b[0m, in \u001b[0;36mExecutor.map.<locals>.result_iterator\u001b[1;34m()\u001b[0m\n\u001b[0;32m    616\u001b[0m \u001b[38;5;28;01mwhile\u001b[39;00m fs:\n\u001b[0;32m    617\u001b[0m     \u001b[38;5;66;03m# Careful not to keep a reference to the popped future\u001b[39;00m\n\u001b[0;32m    618\u001b[0m     \u001b[38;5;28;01mif\u001b[39;00m timeout \u001b[38;5;129;01mis\u001b[39;00m \u001b[38;5;28;01mNone\u001b[39;00m:\n\u001b[1;32m--> 619\u001b[0m         \u001b[38;5;28;01myield\u001b[39;00m \u001b[43m_result_or_cancel\u001b[49m\u001b[43m(\u001b[49m\u001b[43mfs\u001b[49m\u001b[38;5;241;43m.\u001b[39;49m\u001b[43mpop\u001b[49m\u001b[43m(\u001b[49m\u001b[43m)\u001b[49m\u001b[43m)\u001b[49m\n\u001b[0;32m    620\u001b[0m     \u001b[38;5;28;01melse\u001b[39;00m:\n\u001b[0;32m    621\u001b[0m         \u001b[38;5;28;01myield\u001b[39;00m _result_or_cancel(fs\u001b[38;5;241m.\u001b[39mpop(), end_time \u001b[38;5;241m-\u001b[39m time\u001b[38;5;241m.\u001b[39mmonotonic())\n",
      "File \u001b[1;32mc:\\Users\\Microsoft\\AppData\\Local\\Programs\\Python\\Python312\\Lib\\concurrent\\futures\\_base.py:317\u001b[0m, in \u001b[0;36m_result_or_cancel\u001b[1;34m(***failed resolving arguments***)\u001b[0m\n\u001b[0;32m    315\u001b[0m \u001b[38;5;28;01mtry\u001b[39;00m:\n\u001b[0;32m    316\u001b[0m     \u001b[38;5;28;01mtry\u001b[39;00m:\n\u001b[1;32m--> 317\u001b[0m         \u001b[38;5;28;01mreturn\u001b[39;00m \u001b[43mfut\u001b[49m\u001b[38;5;241;43m.\u001b[39;49m\u001b[43mresult\u001b[49m\u001b[43m(\u001b[49m\u001b[43mtimeout\u001b[49m\u001b[43m)\u001b[49m\n\u001b[0;32m    318\u001b[0m     \u001b[38;5;28;01mfinally\u001b[39;00m:\n\u001b[0;32m    319\u001b[0m         fut\u001b[38;5;241m.\u001b[39mcancel()\n",
      "File \u001b[1;32mc:\\Users\\Microsoft\\AppData\\Local\\Programs\\Python\\Python312\\Lib\\concurrent\\futures\\_base.py:456\u001b[0m, in \u001b[0;36mFuture.result\u001b[1;34m(self, timeout)\u001b[0m\n\u001b[0;32m    454\u001b[0m     \u001b[38;5;28;01mraise\u001b[39;00m CancelledError()\n\u001b[0;32m    455\u001b[0m \u001b[38;5;28;01melif\u001b[39;00m \u001b[38;5;28mself\u001b[39m\u001b[38;5;241m.\u001b[39m_state \u001b[38;5;241m==\u001b[39m FINISHED:\n\u001b[1;32m--> 456\u001b[0m     \u001b[38;5;28;01mreturn\u001b[39;00m \u001b[38;5;28;43mself\u001b[39;49m\u001b[38;5;241;43m.\u001b[39;49m\u001b[43m__get_result\u001b[49m\u001b[43m(\u001b[49m\u001b[43m)\u001b[49m\n\u001b[0;32m    457\u001b[0m \u001b[38;5;28;01melse\u001b[39;00m:\n\u001b[0;32m    458\u001b[0m     \u001b[38;5;28;01mraise\u001b[39;00m \u001b[38;5;167;01mTimeoutError\u001b[39;00m()\n",
      "File \u001b[1;32mc:\\Users\\Microsoft\\AppData\\Local\\Programs\\Python\\Python312\\Lib\\concurrent\\futures\\_base.py:401\u001b[0m, in \u001b[0;36mFuture.__get_result\u001b[1;34m(self)\u001b[0m\n\u001b[0;32m    399\u001b[0m \u001b[38;5;28;01mif\u001b[39;00m \u001b[38;5;28mself\u001b[39m\u001b[38;5;241m.\u001b[39m_exception:\n\u001b[0;32m    400\u001b[0m     \u001b[38;5;28;01mtry\u001b[39;00m:\n\u001b[1;32m--> 401\u001b[0m         \u001b[38;5;28;01mraise\u001b[39;00m \u001b[38;5;28mself\u001b[39m\u001b[38;5;241m.\u001b[39m_exception\n\u001b[0;32m    402\u001b[0m     \u001b[38;5;28;01mfinally\u001b[39;00m:\n\u001b[0;32m    403\u001b[0m         \u001b[38;5;66;03m# Break a reference cycle with the exception in self._exception\u001b[39;00m\n\u001b[0;32m    404\u001b[0m         \u001b[38;5;28mself\u001b[39m \u001b[38;5;241m=\u001b[39m \u001b[38;5;28;01mNone\u001b[39;00m\n",
      "\u001b[1;31mBrokenProcessPool\u001b[0m: A process in the process pool was terminated abruptly while the future was running or pending."
     ]
    }
   ],
   "source": [
    "import concurrent.futures\n",
    "with concurrent.futures.ThreadPoolExecutor() as executor:\n",
    "    results = list(executor.map(extract_info, s_uri))"
   ]
  },
  {
   "cell_type": "code",
   "execution_count": 48,
   "metadata": {},
   "outputs": [
    {
     "data": {
      "text/plain": [
       "<generator object _chain_from_iterable_of_lists at 0x000002019C535630>"
      ]
     },
     "execution_count": 48,
     "metadata": {},
     "output_type": "execute_result"
    }
   ],
   "source": [
    "results"
   ]
  },
  {
   "cell_type": "code",
   "execution_count": 49,
   "metadata": {},
   "outputs": [
    {
     "ename": "BrokenProcessPool",
     "evalue": "A process in the process pool was terminated abruptly while the future was running or pending.",
     "output_type": "error",
     "traceback": [
      "\u001b[1;31m---------------------------------------------------------------------------\u001b[0m",
      "\u001b[1;31mBrokenProcessPool\u001b[0m                         Traceback (most recent call last)",
      "Cell \u001b[1;32mIn[49], line 1\u001b[0m\n\u001b[1;32m----> 1\u001b[0m \u001b[38;5;28;43;01mfor\u001b[39;49;00m\u001b[43m \u001b[49m\u001b[43mr\u001b[49m\u001b[43m \u001b[49m\u001b[38;5;129;43;01min\u001b[39;49;00m\u001b[43m \u001b[49m\u001b[43mresults\u001b[49m\u001b[43m:\u001b[49m\n\u001b[0;32m      2\u001b[0m \u001b[43m    \u001b[49m\u001b[38;5;28;43mprint\u001b[39;49m\u001b[43m(\u001b[49m\u001b[43mr\u001b[49m\u001b[43m)\u001b[49m\n",
      "File \u001b[1;32mc:\\Users\\Microsoft\\AppData\\Local\\Programs\\Python\\Python312\\Lib\\concurrent\\futures\\process.py:642\u001b[0m, in \u001b[0;36m_chain_from_iterable_of_lists\u001b[1;34m(iterable)\u001b[0m\n\u001b[0;32m    636\u001b[0m \u001b[38;5;28;01mdef\u001b[39;00m \u001b[38;5;21m_chain_from_iterable_of_lists\u001b[39m(iterable):\n\u001b[0;32m    637\u001b[0m \u001b[38;5;250m    \u001b[39m\u001b[38;5;124;03m\"\"\"\u001b[39;00m\n\u001b[0;32m    638\u001b[0m \u001b[38;5;124;03m    Specialized implementation of itertools.chain.from_iterable.\u001b[39;00m\n\u001b[0;32m    639\u001b[0m \u001b[38;5;124;03m    Each item in *iterable* should be a list.  This function is\u001b[39;00m\n\u001b[0;32m    640\u001b[0m \u001b[38;5;124;03m    careful not to keep references to yielded objects.\u001b[39;00m\n\u001b[0;32m    641\u001b[0m \u001b[38;5;124;03m    \"\"\"\u001b[39;00m\n\u001b[1;32m--> 642\u001b[0m \u001b[43m    \u001b[49m\u001b[38;5;28;43;01mfor\u001b[39;49;00m\u001b[43m \u001b[49m\u001b[43melement\u001b[49m\u001b[43m \u001b[49m\u001b[38;5;129;43;01min\u001b[39;49;00m\u001b[43m \u001b[49m\u001b[43miterable\u001b[49m\u001b[43m:\u001b[49m\n\u001b[0;32m    643\u001b[0m \u001b[43m        \u001b[49m\u001b[43melement\u001b[49m\u001b[38;5;241;43m.\u001b[39;49m\u001b[43mreverse\u001b[49m\u001b[43m(\u001b[49m\u001b[43m)\u001b[49m\n\u001b[0;32m    644\u001b[0m \u001b[43m        \u001b[49m\u001b[38;5;28;43;01mwhile\u001b[39;49;00m\u001b[43m \u001b[49m\u001b[43melement\u001b[49m\u001b[43m:\u001b[49m\n",
      "File \u001b[1;32mc:\\Users\\Microsoft\\AppData\\Local\\Programs\\Python\\Python312\\Lib\\concurrent\\futures\\_base.py:619\u001b[0m, in \u001b[0;36mExecutor.map.<locals>.result_iterator\u001b[1;34m()\u001b[0m\n\u001b[0;32m    616\u001b[0m \u001b[38;5;28;01mwhile\u001b[39;00m fs:\n\u001b[0;32m    617\u001b[0m     \u001b[38;5;66;03m# Careful not to keep a reference to the popped future\u001b[39;00m\n\u001b[0;32m    618\u001b[0m     \u001b[38;5;28;01mif\u001b[39;00m timeout \u001b[38;5;129;01mis\u001b[39;00m \u001b[38;5;28;01mNone\u001b[39;00m:\n\u001b[1;32m--> 619\u001b[0m         \u001b[38;5;28;01myield\u001b[39;00m \u001b[43m_result_or_cancel\u001b[49m\u001b[43m(\u001b[49m\u001b[43mfs\u001b[49m\u001b[38;5;241;43m.\u001b[39;49m\u001b[43mpop\u001b[49m\u001b[43m(\u001b[49m\u001b[43m)\u001b[49m\u001b[43m)\u001b[49m\n\u001b[0;32m    620\u001b[0m     \u001b[38;5;28;01melse\u001b[39;00m:\n\u001b[0;32m    621\u001b[0m         \u001b[38;5;28;01myield\u001b[39;00m _result_or_cancel(fs\u001b[38;5;241m.\u001b[39mpop(), end_time \u001b[38;5;241m-\u001b[39m time\u001b[38;5;241m.\u001b[39mmonotonic())\n",
      "File \u001b[1;32mc:\\Users\\Microsoft\\AppData\\Local\\Programs\\Python\\Python312\\Lib\\concurrent\\futures\\_base.py:317\u001b[0m, in \u001b[0;36m_result_or_cancel\u001b[1;34m(***failed resolving arguments***)\u001b[0m\n\u001b[0;32m    315\u001b[0m \u001b[38;5;28;01mtry\u001b[39;00m:\n\u001b[0;32m    316\u001b[0m     \u001b[38;5;28;01mtry\u001b[39;00m:\n\u001b[1;32m--> 317\u001b[0m         \u001b[38;5;28;01mreturn\u001b[39;00m \u001b[43mfut\u001b[49m\u001b[38;5;241;43m.\u001b[39;49m\u001b[43mresult\u001b[49m\u001b[43m(\u001b[49m\u001b[43mtimeout\u001b[49m\u001b[43m)\u001b[49m\n\u001b[0;32m    318\u001b[0m     \u001b[38;5;28;01mfinally\u001b[39;00m:\n\u001b[0;32m    319\u001b[0m         fut\u001b[38;5;241m.\u001b[39mcancel()\n",
      "File \u001b[1;32mc:\\Users\\Microsoft\\AppData\\Local\\Programs\\Python\\Python312\\Lib\\concurrent\\futures\\_base.py:449\u001b[0m, in \u001b[0;36mFuture.result\u001b[1;34m(self, timeout)\u001b[0m\n\u001b[0;32m    447\u001b[0m     \u001b[38;5;28;01mraise\u001b[39;00m CancelledError()\n\u001b[0;32m    448\u001b[0m \u001b[38;5;28;01melif\u001b[39;00m \u001b[38;5;28mself\u001b[39m\u001b[38;5;241m.\u001b[39m_state \u001b[38;5;241m==\u001b[39m FINISHED:\n\u001b[1;32m--> 449\u001b[0m     \u001b[38;5;28;01mreturn\u001b[39;00m \u001b[38;5;28;43mself\u001b[39;49m\u001b[38;5;241;43m.\u001b[39;49m\u001b[43m__get_result\u001b[49m\u001b[43m(\u001b[49m\u001b[43m)\u001b[49m\n\u001b[0;32m    451\u001b[0m \u001b[38;5;28mself\u001b[39m\u001b[38;5;241m.\u001b[39m_condition\u001b[38;5;241m.\u001b[39mwait(timeout)\n\u001b[0;32m    453\u001b[0m \u001b[38;5;28;01mif\u001b[39;00m \u001b[38;5;28mself\u001b[39m\u001b[38;5;241m.\u001b[39m_state \u001b[38;5;129;01min\u001b[39;00m [CANCELLED, CANCELLED_AND_NOTIFIED]:\n",
      "File \u001b[1;32mc:\\Users\\Microsoft\\AppData\\Local\\Programs\\Python\\Python312\\Lib\\concurrent\\futures\\_base.py:401\u001b[0m, in \u001b[0;36mFuture.__get_result\u001b[1;34m(self)\u001b[0m\n\u001b[0;32m    399\u001b[0m \u001b[38;5;28;01mif\u001b[39;00m \u001b[38;5;28mself\u001b[39m\u001b[38;5;241m.\u001b[39m_exception:\n\u001b[0;32m    400\u001b[0m     \u001b[38;5;28;01mtry\u001b[39;00m:\n\u001b[1;32m--> 401\u001b[0m         \u001b[38;5;28;01mraise\u001b[39;00m \u001b[38;5;28mself\u001b[39m\u001b[38;5;241m.\u001b[39m_exception\n\u001b[0;32m    402\u001b[0m     \u001b[38;5;28;01mfinally\u001b[39;00m:\n\u001b[0;32m    403\u001b[0m         \u001b[38;5;66;03m# Break a reference cycle with the exception in self._exception\u001b[39;00m\n\u001b[0;32m    404\u001b[0m         \u001b[38;5;28mself\u001b[39m \u001b[38;5;241m=\u001b[39m \u001b[38;5;28;01mNone\u001b[39;00m\n",
      "\u001b[1;31mBrokenProcessPool\u001b[0m: A process in the process pool was terminated abruptly while the future was running or pending."
     ]
    }
   ],
   "source": [
    "for r in results:\n",
    "    print(r)"
   ]
  },
  {
   "cell_type": "code",
   "execution_count": null,
   "metadata": {},
   "outputs": [],
   "source": []
  },
  {
   "cell_type": "markdown",
   "metadata": {},
   "source": [
    "Creating new dataframe to save results"
   ]
  },
  {
   "cell_type": "code",
   "execution_count": 52,
   "metadata": {},
   "outputs": [
    {
     "data": {
      "text/html": [
       "<div>\n",
       "<style scoped>\n",
       "    .dataframe tbody tr th:only-of-type {\n",
       "        vertical-align: middle;\n",
       "    }\n",
       "\n",
       "    .dataframe tbody tr th {\n",
       "        vertical-align: top;\n",
       "    }\n",
       "\n",
       "    .dataframe thead th {\n",
       "        text-align: right;\n",
       "    }\n",
       "</style>\n",
       "<table border=\"1\" class=\"dataframe\">\n",
       "  <thead>\n",
       "    <tr style=\"text-align: right;\">\n",
       "      <th></th>\n",
       "      <th>product_name</th>\n",
       "      <th>product_url</th>\n",
       "    </tr>\n",
       "  </thead>\n",
       "  <tbody>\n",
       "  </tbody>\n",
       "</table>\n",
       "</div>"
      ],
      "text/plain": [
       "Empty DataFrame\n",
       "Columns: [product_name, product_url]\n",
       "Index: []"
      ]
     },
     "execution_count": 52,
     "metadata": {},
     "output_type": "execute_result"
    }
   ],
   "source": [
    "result = data\n",
    "result.head()"
   ]
  },
  {
   "cell_type": "markdown",
   "metadata": {},
   "source": [
    "Iterating through function to extract features of image and adding it to result dataframe"
   ]
  },
  {
   "cell_type": "code",
   "execution_count": 53,
   "metadata": {},
   "outputs": [],
   "source": [
    "for i in range(len(s_uri)):\n",
    "    txt = \"\"\n",
    "    extract_info(s_uri[i])\n",
    "    result.loc[i, \"objects_extracted\"] = txt\n",
    "    "
   ]
  },
  {
   "cell_type": "markdown",
   "metadata": {},
   "source": [
    "Resultant Dataframe"
   ]
  },
  {
   "cell_type": "code",
   "execution_count": 55,
   "metadata": {},
   "outputs": [
    {
     "data": {
      "text/plain": [
       "0       \n",
       "1       \n",
       "2       \n",
       "3       \n",
       "4       \n",
       "      ..\n",
       "150     \n",
       "151     \n",
       "152     \n",
       "153     \n",
       "154     \n",
       "Name: objects_extracted, Length: 155, dtype: object"
      ]
     },
     "execution_count": 55,
     "metadata": {},
     "output_type": "execute_result"
    }
   ],
   "source": [
    "result['objects_extracted']"
   ]
  },
  {
   "cell_type": "markdown",
   "metadata": {},
   "source": [
    "Saving Dataframe to CSV file"
   ]
  },
  {
   "cell_type": "code",
   "execution_count": null,
   "metadata": {},
   "outputs": [],
   "source": [
    "result.to_csv(\"D:\\\\Work and Assignments\\\\Python\\\\Assessment-2 (GOOGLE VISION API)\\\\results.csv\",index=False)"
   ]
  },
  {
   "cell_type": "markdown",
   "metadata": {},
   "source": [
    "Uploading csv file to Cloud Stroage"
   ]
  },
  {
   "cell_type": "code",
   "execution_count": null,
   "metadata": {},
   "outputs": [
    {
     "name": "stdout",
     "output_type": "stream",
     "text": [
      "completed\n"
     ]
    }
   ],
   "source": [
    "storage_cli = storage.Client()\n",
    "bucket = storage_cli.get_bucket(\"bucket-shreyash\")\n",
    "blob = bucket.blob(\"Extracted_features_from_image.csv\")\n",
    "blob.upload_from_filename(\"D:\\\\Work and Assignments\\\\Python\\\\Assessment-2 (GOOGLE VISION API)\\\\results.csv\")\n",
    "print(\"completed\")"
   ]
  },
  {
   "cell_type": "code",
   "execution_count": null,
   "metadata": {},
   "outputs": [],
   "source": []
  }
 ],
 "metadata": {
  "kernelspec": {
   "display_name": "Python 3",
   "language": "python",
   "name": "python3"
  },
  "language_info": {
   "codemirror_mode": {
    "name": "ipython",
    "version": 3
   },
   "file_extension": ".py",
   "mimetype": "text/x-python",
   "name": "python",
   "nbconvert_exporter": "python",
   "pygments_lexer": "ipython3",
   "version": "3.12.4"
  }
 },
 "nbformat": 4,
 "nbformat_minor": 2
}
