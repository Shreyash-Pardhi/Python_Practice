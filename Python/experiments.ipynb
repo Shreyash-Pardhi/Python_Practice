{
 "cells": [
  {
   "cell_type": "code",
   "execution_count": null,
   "metadata": {},
   "outputs": [],
   "source": [
    "import cloudinary\n",
    "import cloudinary.uploader\n",
    "from cloudinary.utils import cloudinary_url\n",
    "\n",
    "# Configuration       \n",
    "cloudinary.config( \n",
    "    cloud_name = \"dzr5vt5ut\", \n",
    "    api_key = \"829673595861745\", \n",
    "    api_secret = \"9rWMNm7vKvVMBEPzqiD2E8-YALE\", # Click 'View Credentials' below to copy your API secret\n",
    "    secure=True\n",
    ")\n",
    "\n",
    "# Upload an image\n",
    "upload_result = cloudinary.uploader.upload(\"D:\\\\Work and Assignments\\\\Python\\\\Python Projects\\\\Google Vision API\\\\dp.jpg\")\n",
    "print(upload_result[\"secure_url\"])\n"
   ]
  },
  {
   "cell_type": "code",
   "execution_count": null,
   "metadata": {},
   "outputs": [],
   "source": [
    "c"
   ]
  },
  {
   "cell_type": "code",
   "execution_count": null,
   "metadata": {},
   "outputs": [],
   "source": [
    "c.iloc[0]['product_url']"
   ]
  },
  {
   "cell_type": "code",
   "execution_count": null,
   "metadata": {},
   "outputs": [],
   "source": [
    "fea = c['Extracted_Details_from_Image']\n",
    "fea"
   ]
  },
  {
   "cell_type": "code",
   "execution_count": null,
   "metadata": {},
   "outputs": [],
   "source": [
    "from sklearn.metrics.pairwise import cosine_similarity\n",
    "from collections import Counter"
   ]
  },
  {
   "cell_type": "code",
   "execution_count": null,
   "metadata": {},
   "outputs": [],
   "source": [
    "new_df=c\n",
    "new_df.shape"
   ]
  },
  {
   "cell_type": "code",
   "execution_count": null,
   "metadata": {},
   "outputs": [],
   "source": [
    "a=\"Brand: Reebok, Description: ['Polo shirt', 'Arm', 'Shoulder', 'Sports uniform', 'Jersey', 'Azure', 'Sleeve', 'Gesture', 'Sports jersey', 'Collar'], Text: Reebok, Object: ['Person', 'Top', 'Person', 'Top', 'Pants']\"\n",
    "ans=[]\n",
    "for i in range(len(fea)):\n",
    "    b=str(fea[i])\n",
    "\n",
    "    a_vals = Counter(a)\n",
    "    b_vals = Counter(b)\n",
    "\n",
    "    # convert to word-vectors\n",
    "    words  = list(a_vals.keys() | b_vals.keys())\n",
    "    a_vect = [a_vals.get(word, 0) for word in words]       \n",
    "    b_vect = [b_vals.get(word, 0) for word in words]        \n",
    "    sim = cosine_similarity([a_vect], [b_vect])\n",
    "    # print(f\"{i+1}: {cosine_similarity([a_vect], [b_vect])}\")\n",
    "    new_df.loc[i, \"SIM\"] = sim[0][0]\n"
   ]
  },
  {
   "cell_type": "code",
   "execution_count": null,
   "metadata": {},
   "outputs": [
    {
     "ename": "",
     "evalue": "",
     "output_type": "error",
     "traceback": [
      "\u001b[1;31mThe file 'Python\\decorator.py' seems to be overriding built in modules and interfering with the startup of the kernel. Consider renaming the file and starting the kernel again.\n",
      "\u001b[1;31mClick <a href='https://aka.ms/kernelFailuresOverridingBuiltInModules'>here</a> for more info."
     ]
    }
   ],
   "source": [
    "new_df"
   ]
  },
  {
   "cell_type": "code",
   "execution_count": null,
   "metadata": {},
   "outputs": [],
   "source": [
    "sort_df = new_df.sort_values(['SIM'],ascending=False,axis=0)"
   ]
  },
  {
   "cell_type": "code",
   "execution_count": null,
   "metadata": {},
   "outputs": [],
   "source": [
    "sort_df"
   ]
  },
  {
   "cell_type": "code",
   "execution_count": null,
   "metadata": {},
   "outputs": [],
   "source": [
    "import pandas as pd\n",
    "c = pd.read_csv(\"D:\\\\Work and Assignments\\\\Python\\\\Product_DB.csv\")\n",
    "c.shape"
   ]
  }
 ],
 "metadata": {
  "kernelspec": {
   "display_name": "Python 3",
   "language": "python",
   "name": "python3"
  },
  "language_info": {
   "codemirror_mode": {
    "name": "ipython",
    "version": 3
   },
   "file_extension": ".py",
   "mimetype": "text/x-python",
   "name": "python",
   "nbconvert_exporter": "python",
   "pygments_lexer": "ipython3",
   "version": "3.12.2"
  }
 },
 "nbformat": 4,
 "nbformat_minor": 2
}
