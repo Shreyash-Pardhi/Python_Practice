{
 "cells": [
  {
   "cell_type": "code",
   "execution_count": 2,
   "metadata": {},
   "outputs": [],
   "source": [
    "import math\n",
    "\n",
    "def convert_size(size):\n",
    "  if size == 0:\n",
    "    return '0B'\n",
    "  size_name = (\"B\", \"KB\", \"MB\", \"GB\")\n",
    "  i = int(math.floor(math.log(size, 1024)))\n",
    "  p = math.pow(1024, i)\n",
    "  s = round(size / p, 2)\n",
    "  return '%s %s' % (s, size_name[i])\n"
   ]
  },
  {
   "cell_type": "code",
   "execution_count": 3,
   "metadata": {},
   "outputs": [],
   "source": [
    "import datetime\n",
    "\n",
    "def format_time(timestamp):\n",
    "  dt = datetime.datetime.fromtimestamp(timestamp)\n",
    "  return dt.strftime(\"%Y-%m-%d %H:%M:%S\")\n"
   ]
  },
  {
   "cell_type": "code",
   "execution_count": 4,
   "metadata": {},
   "outputs": [
    {
     "name": "stdout",
     "output_type": "stream",
     "text": [
      "{'file_name': 'UniversityPhysicsVolume1-LR.pdf', 'size': '17.66 MB', 'created': '2024-07-12 10:55:38', 'modified': '2024-07-12 10:55:38', 'accessed': '2024-08-05 15:08:03'}\n"
     ]
    }
   ],
   "source": [
    "import os\n",
    "from pathlib import Path\n",
    "\n",
    "def get_basic_metadata(file_path):\n",
    "\n",
    "  if not os.path.exists(file_path):\n",
    "    raise FileNotFoundError(f\"File not found: {file_path}\")\n",
    "\n",
    "  file_info = Path(file_path)\n",
    "  metadata = {\n",
    "      \"file_name\": file_info.name,\n",
    "      \"size\": convert_size(file_info.stat().st_size),\n",
    "      \"created\": format_time(file_info.stat().st_birthtime),\n",
    "      \"modified\": format_time(file_info.stat().st_mtime),\n",
    "      \"accessed\": format_time(file_info.stat().st_atime)\n",
    "  }\n",
    "  return metadata\n",
    "\n",
    "\n",
    "# Example usage\n",
    "file_path = \"D:\\\\Work and Assignments\\\\Python\\\\Assignments\\\\PDF Chapter Seperator\\\\UniversityPhysicsVolume1-LR.pdf\"\n",
    "metadata = get_basic_metadata(file_path)\n",
    "print(metadata)\n"
   ]
  }
 ],
 "metadata": {
  "kernelspec": {
   "display_name": "Python 3",
   "language": "python",
   "name": "python3"
  },
  "language_info": {
   "codemirror_mode": {
    "name": "ipython",
    "version": 3
   },
   "file_extension": ".py",
   "mimetype": "text/x-python",
   "name": "python",
   "nbconvert_exporter": "python",
   "pygments_lexer": "ipython3",
   "version": "3.12.4"
  }
 },
 "nbformat": 4,
 "nbformat_minor": 2
}
